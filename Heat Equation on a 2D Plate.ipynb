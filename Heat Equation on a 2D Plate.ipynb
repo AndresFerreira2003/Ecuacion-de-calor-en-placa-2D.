{
 "cells": [
  {
   "cell_type": "markdown",
   "id": "05c93e33",
   "metadata": {},
   "source": [
    "# Library import"
   ]
  },
  {
   "cell_type": "code",
   "execution_count": 4,
   "id": "93140871",
   "metadata": {},
   "outputs": [],
   "source": [
    "import numpy as np\n",
    "import matplotlib.pyplot as plt\n",
    "import time"
   ]
  },
  {
   "cell_type": "markdown",
   "id": "de1391f2",
   "metadata": {},
   "source": [
    "# Graphics"
   ]
  },
  {
   "cell_type": "code",
   "execution_count": 8,
   "id": "39c37614",
   "metadata": {
    "scrolled": true
   },
   "outputs": [
    {
     "data": {
      "image/png": "[encoded data removed]",
      "text/plain": [
       "<Figure size 432x288 with 2 Axes>"
      ]
     },
     "metadata": {
      "needs_background": "light"
     },
     "output_type": "display_data"
    },
    {
     "name": "stdout",
     "output_type": "stream",
     "text": [
      "0.27725768089294434\n"
     ]
    }
   ],
   "source": [
    "#Function time from time library to calculate the Algorithm's time execution, 'start' indicates the time in seconds\n",
    "#from Enero 1 in 1970 til the instant the function is called.\n",
    "start= time.time()\n",
    "\n",
    "# Create a sampled space of 100 numbers in the (0,1) interval\n",
    "x=np.linspace(0,1,100)\n",
    "y=np.linspace(0,1,100)\n",
    "\n",
    "# Vectors xmesh and ymesh create a matrix\n",
    "xmesh,ymesh=np.meshgrid(x,y)\n",
    "\n",
    "# Create a vector from the temperature function for every vector defined below\n",
    "zmesh=(1/np.sinh(np.pi))*np.sin(np.pi*xmesh)*np.sinh(np.pi*ymesh)\n",
    "\n",
    "# Create a figure\n",
    "fig=plt.figure()\n",
    "\n",
    "# Label for title, x and y axis\n",
    "plt.title('Temperature distribution in a 2D blade', fontsize=18)\n",
    "plt.xlabel(\"x[length]\",fontsize=15)\n",
    "plt.ylabel(\"y[length]\",fontsize=15)\n",
    "\n",
    "# Create a contour for the x,y,zmesh vectors, alpha parameter is for color intensity\n",
    "contour1=plt.contourf(xmesh,ymesh,zmesh,alpha=1)\n",
    "\n",
    "# Show de color bar for numerical intensity\n",
    "plt.colorbar(contour1)\n",
    "\n",
    "# Save the figure in jupyter\n",
    "plt.savefig(\"Graphic.jpg\", format='jpg')\n",
    "\n",
    "# Plot te figure obtained\n",
    "plt.show()\n",
    "\n",
    "# End of the algorithm, time has stopped\n",
    "end=time.time()\n",
    "\n",
    "# Print the difference between the two times, this is the execution time\n",
    "print(end-start)\n"
   ]
  },
  {
   "cell_type": "code",
   "execution_count": 47,
   "id": "a1c80597",
   "metadata": {},
   "outputs": [],
   "source": [
    "#zmesh"
   ]
  }
 ],
 "metadata": {
  "kernelspec": {
   "display_name": "Python 3 (ipykernel)",
   "language": "python",
   "name": "python3"
  },
  "language_info": {
   "codemirror_mode": {
    "name": "ipython",
    "version": 3
   },
   "file_extension": ".py",
   "mimetype": "text/x-python",
   "name": "python",
   "nbconvert_exporter": "python",
   "pygments_lexer": "ipython3",
   "version": "3.9.7"
  }
 },
 "nbformat": 4,
 "nbformat_minor": 5
}
